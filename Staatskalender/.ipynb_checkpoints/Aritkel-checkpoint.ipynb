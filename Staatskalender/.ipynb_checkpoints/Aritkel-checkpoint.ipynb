{
 "cells": [
  {
   "cell_type": "markdown",
   "metadata": {},
   "source": [
    "# Das Vorbild tut sich schwer"
   ]
  },
  {
   "cell_type": "markdown",
   "metadata": {},
   "source": [
    "*Der Kanton Freiburg will die Gleichstellung von Frauen und Männer unter seinen Angestellten fördern. Das heisst, mehr Frauen in Kaderfunktionen, mehr Vereinbarkeit von Beruf und Familie und gleicher Lohn für gleiche Arbeit. Nur, in den letzten fünf Jahren hat sich hier wenig getan.*\n"
   ]
  },
  {
   "cell_type": "markdown",
   "metadata": {},
   "source": [
    "[Bild hier]\n",
    "![Logo](/Export/logo.png)"
   ]
  },
  {
   "cell_type": "markdown",
   "metadata": {},
   "source": [
    "### Der Staatskalender"
   ]
  },
  {
   "cell_type": "markdown",
   "metadata": {},
   "source": [
    "In welcher Direktion arbeiten wie viele Männer und Frauen? Wie ist die Verteilung auf der Führungsebene? Aufschluss darüber gibt der Freiburger Staatskalender. Nicht alle Angestellte des Kantons sind darin aufgeführt. Dennoch gibt er einen Einblick über die aktuelle Situation."
   ]
  },
  {
   "cell_type": "markdown",
   "metadata": {},
   "source": [
    "Insgesamt ist das Geschlechterverhältnis bei den Freiburger Kantonsbehörden laut dem Staatskalender sehr ausgeglichen. 51 Prozent der Angestellten sind Frauen, 49 Prozent sind Männer. Unter dem Kader sieht es jedoch anders aus: Dort sind 35 Prozent Frauen und 65 Prozent Männer."
   ]
  },
  {
   "cell_type": "markdown",
   "metadata": {},
   "source": [
    "[Graph Prozent total/ kader total]"
   ]
  },
  {
   "cell_type": "markdown",
   "metadata": {},
   "source": [
    "Noch deutlicher wird das Bild, wenn man einzelne Direktionen anschaut: "
   ]
  },
  {
   "cell_type": "code",
   "execution_count": null,
   "metadata": {},
   "outputs": [],
   "source": []
  }
 ],
 "metadata": {
  "kernelspec": {
   "display_name": "Python 3",
   "language": "python",
   "name": "python3"
  },
  "language_info": {
   "codemirror_mode": {
    "name": "ipython",
    "version": 3
   },
   "file_extension": ".py",
   "mimetype": "text/x-python",
   "name": "python",
   "nbconvert_exporter": "python",
   "pygments_lexer": "ipython3",
   "version": "3.7.3"
  }
 },
 "nbformat": 4,
 "nbformat_minor": 2
}
