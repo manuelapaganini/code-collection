{
 "cells": [
  {
   "cell_type": "markdown",
   "metadata": {},
   "source": [
    "# CSV Lesen"
   ]
  },
  {
   "cell_type": "code",
   "execution_count": 40,
   "metadata": {},
   "outputs": [],
   "source": [
    "# Sachen importieren\n",
    "\n",
    "import pandas as pd\n",
    "import re\n",
    "import gender_guesser.detector as gender"
   ]
  },
  {
   "cell_type": "code",
   "execution_count": 41,
   "metadata": {},
   "outputs": [
    {
     "data": {
      "text/html": [
       "<div>\n",
       "<style scoped>\n",
       "    .dataframe tbody tr th:only-of-type {\n",
       "        vertical-align: middle;\n",
       "    }\n",
       "\n",
       "    .dataframe tbody tr th {\n",
       "        vertical-align: top;\n",
       "    }\n",
       "\n",
       "    .dataframe thead th {\n",
       "        text-align: right;\n",
       "    }\n",
       "</style>\n",
       "<table border=\"1\" class=\"dataframe\">\n",
       "  <thead>\n",
       "    <tr style=\"text-align: right;\">\n",
       "      <th></th>\n",
       "      <th>Nachname</th>\n",
       "      <th>Vorname</th>\n",
       "      <th>Abteilung</th>\n",
       "      <th>Telefon</th>\n",
       "      <th>Email</th>\n",
       "      <th>Funktion</th>\n",
       "    </tr>\n",
       "  </thead>\n",
       "  <tbody>\n",
       "    <tr>\n",
       "      <th>0</th>\n",
       "      <td>---</td>\n",
       "      <td>---</td>\n",
       "      <td>Staatsarchiv</td>\n",
       "      <td>+41 26 305 12 70</td>\n",
       "      <td>NaN</td>\n",
       "      <td>Sekretariat</td>\n",
       "    </tr>\n",
       "    <tr>\n",
       "      <th>1</th>\n",
       "      <td>Abeztout</td>\n",
       "      <td>Abderrahim</td>\n",
       "      <td>Technische Abteilung</td>\n",
       "      <td>+41 26 305 37 97</td>\n",
       "      <td>abderrahim.abeztout@fr.ch</td>\n",
       "      <td>Architektin</td>\n",
       "    </tr>\n",
       "    <tr>\n",
       "      <th>2</th>\n",
       "      <td>Ackermann</td>\n",
       "      <td>Christophe</td>\n",
       "      <td>Finanzinspektorat</td>\n",
       "      <td>+41 26 305 31 38</td>\n",
       "      <td>christophe.ackermann@fr.ch</td>\n",
       "      <td>Adjunkt der Dienstchefin</td>\n",
       "    </tr>\n",
       "    <tr>\n",
       "      <th>3</th>\n",
       "      <td>Ackermann</td>\n",
       "      <td>Urs</td>\n",
       "      <td>Abteilung Institutionen und Rechtsangelenheiten</td>\n",
       "      <td>+41 26 305 14 16</td>\n",
       "      <td>urs.ackermann@fr.ch</td>\n",
       "      <td>Höherer Verwaltungssachbearbeiter</td>\n",
       "    </tr>\n",
       "    <tr>\n",
       "      <th>4</th>\n",
       "      <td>Adam</td>\n",
       "      <td>Samuel</td>\n",
       "      <td>Kantonsarztamt</td>\n",
       "      <td>+41 26 305 29 63</td>\n",
       "      <td>NaN</td>\n",
       "      <td>Adjunkt des Dienstchefs</td>\n",
       "    </tr>\n",
       "  </tbody>\n",
       "</table>\n",
       "</div>"
      ],
      "text/plain": [
       "    Nachname     Vorname                                        Abteilung  \\\n",
       "0        ---         ---                                     Staatsarchiv   \n",
       "1   Abeztout  Abderrahim                             Technische Abteilung   \n",
       "2  Ackermann  Christophe                                Finanzinspektorat   \n",
       "3  Ackermann         Urs  Abteilung Institutionen und Rechtsangelenheiten   \n",
       "4       Adam      Samuel                                   Kantonsarztamt   \n",
       "\n",
       "            Telefon                       Email  \\\n",
       "0  +41 26 305 12 70                         NaN   \n",
       "1  +41 26 305 37 97   abderrahim.abeztout@fr.ch   \n",
       "2  +41 26 305 31 38  christophe.ackermann@fr.ch   \n",
       "3  +41 26 305 14 16         urs.ackermann@fr.ch   \n",
       "4  +41 26 305 29 63                         NaN   \n",
       "\n",
       "                            Funktion  \n",
       "0                        Sekretariat  \n",
       "1                        Architektin  \n",
       "2           Adjunkt der Dienstchefin  \n",
       "3  Höherer Verwaltungssachbearbeiter  \n",
       "4            Adjunkt des Dienstchefs  "
      ]
     },
     "execution_count": 41,
     "metadata": {},
     "output_type": "execute_result"
    }
   ],
   "source": [
    "# Die CSV-Datei laden\n",
    "\n",
    "df = pd.read_csv('Versuch 2.3.csv')\n",
    "df.head()"
   ]
  },
  {
   "cell_type": "code",
   "execution_count": 42,
   "metadata": {},
   "outputs": [
    {
     "data": {
      "text/html": [
       "<div>\n",
       "<style scoped>\n",
       "    .dataframe tbody tr th:only-of-type {\n",
       "        vertical-align: middle;\n",
       "    }\n",
       "\n",
       "    .dataframe tbody tr th {\n",
       "        vertical-align: top;\n",
       "    }\n",
       "\n",
       "    .dataframe thead th {\n",
       "        text-align: right;\n",
       "    }\n",
       "</style>\n",
       "<table border=\"1\" class=\"dataframe\">\n",
       "  <thead>\n",
       "    <tr style=\"text-align: right;\">\n",
       "      <th></th>\n",
       "      <th>Nachname</th>\n",
       "      <th>Vorname</th>\n",
       "      <th>Abteilung</th>\n",
       "      <th>Telefon</th>\n",
       "      <th>Email</th>\n",
       "      <th>Funktion</th>\n",
       "    </tr>\n",
       "  </thead>\n",
       "  <tbody>\n",
       "    <tr>\n",
       "      <th>count</th>\n",
       "      <td>1593</td>\n",
       "      <td>1593</td>\n",
       "      <td>1593</td>\n",
       "      <td>1489</td>\n",
       "      <td>1191</td>\n",
       "      <td>1593</td>\n",
       "    </tr>\n",
       "    <tr>\n",
       "      <th>unique</th>\n",
       "      <td>1073</td>\n",
       "      <td>601</td>\n",
       "      <td>453</td>\n",
       "      <td>1246</td>\n",
       "      <td>1151</td>\n",
       "      <td>579</td>\n",
       "    </tr>\n",
       "    <tr>\n",
       "      <th>top</th>\n",
       "      <td>Aebischer</td>\n",
       "      <td>Philippe</td>\n",
       "      <td>Generalsekretariat</td>\n",
       "      <td>+41 26 305 23 43</td>\n",
       "      <td>Non renseigné</td>\n",
       "      <td>Schulleiter-in</td>\n",
       "    </tr>\n",
       "    <tr>\n",
       "      <th>freq</th>\n",
       "      <td>11</td>\n",
       "      <td>24</td>\n",
       "      <td>80</td>\n",
       "      <td>28</td>\n",
       "      <td>26</td>\n",
       "      <td>73</td>\n",
       "    </tr>\n",
       "  </tbody>\n",
       "</table>\n",
       "</div>"
      ],
      "text/plain": [
       "         Nachname   Vorname           Abteilung           Telefon  \\\n",
       "count        1593      1593                1593              1489   \n",
       "unique       1073       601                 453              1246   \n",
       "top     Aebischer  Philippe  Generalsekretariat  +41 26 305 23 43   \n",
       "freq           11        24                  80                28   \n",
       "\n",
       "                Email        Funktion  \n",
       "count            1191            1593  \n",
       "unique           1151             579  \n",
       "top     Non renseigné  Schulleiter-in  \n",
       "freq               26              73  "
      ]
     },
     "execution_count": 42,
     "metadata": {},
     "output_type": "execute_result"
    }
   ],
   "source": [
    "df.describe()"
   ]
  },
  {
   "cell_type": "code",
   "execution_count": 43,
   "metadata": {},
   "outputs": [
    {
     "name": "stdout",
     "output_type": "stream",
     "text": [
      "<class 'pandas.core.frame.DataFrame'>\n",
      "RangeIndex: 1593 entries, 0 to 1592\n",
      "Data columns (total 6 columns):\n",
      "Nachname     1593 non-null object\n",
      "Vorname      1593 non-null object\n",
      "Abteilung    1593 non-null object\n",
      "Telefon      1489 non-null object\n",
      "Email        1191 non-null object\n",
      "Funktion     1593 non-null object\n",
      "dtypes: object(6)\n",
      "memory usage: 74.8+ KB\n"
     ]
    }
   ],
   "source": [
    "df.info()"
   ]
  },
  {
   "cell_type": "code",
   "execution_count": null,
   "metadata": {},
   "outputs": [],
   "source": []
  },
  {
   "cell_type": "markdown",
   "metadata": {},
   "source": [
    "Ok, wir stoppen hier und üben Text-Erkennung"
   ]
  },
  {
   "cell_type": "code",
   "execution_count": 44,
   "metadata": {},
   "outputs": [
    {
     "name": "stdout",
     "output_type": "stream",
     "text": [
      "<re.Match object; span=(12, 14), match='in'>\n"
     ]
    },
    {
     "data": {
      "text/plain": [
       "re.Match"
      ]
     },
     "execution_count": 44,
     "metadata": {},
     "output_type": "execute_result"
    }
   ],
   "source": [
    "# Test an einem Begriff\n",
    "\n",
    "print(re.search(\"in+\", 'Receptionistin'))\n",
    "type(re.search(\"in+\", 'Receptionistin'))"
   ]
  },
  {
   "cell_type": "code",
   "execution_count": 45,
   "metadata": {},
   "outputs": [
    {
     "name": "stdout",
     "output_type": "stream",
     "text": [
      "None\n"
     ]
    }
   ],
   "source": [
    "# Typ des Resultats\n",
    "\n",
    "print(re.search(\"in+\", 'Receptionist'))"
   ]
  },
  {
   "cell_type": "markdown",
   "metadata": {},
   "source": [
    "Back to wher we were. Task: Eine neue Spalte, die nach * *in* sucht.\n"
   ]
  },
  {
   "cell_type": "code",
   "execution_count": 46,
   "metadata": {},
   "outputs": [],
   "source": [
    "#Eine Funktion (Pandas nimmt sie, aber es geht auch anders)\n",
    "\n",
    "def find_in(sentence):\n",
    "    if type(re.search(\"in+\", sentence)) == re.Match:\n",
    "        print('Female')\n",
    "    else:\n",
    "        print('Male')"
   ]
  },
  {
   "cell_type": "code",
   "execution_count": 47,
   "metadata": {
    "scrolled": true
   },
   "outputs": [
    {
     "name": "stdout",
     "output_type": "stream",
     "text": [
      "Female\n"
     ]
    }
   ],
   "source": [
    "find_in('Receptionistin')"
   ]
  },
  {
   "cell_type": "code",
   "execution_count": 48,
   "metadata": {},
   "outputs": [
    {
     "data": {
      "text/html": [
       "<div>\n",
       "<style scoped>\n",
       "    .dataframe tbody tr th:only-of-type {\n",
       "        vertical-align: middle;\n",
       "    }\n",
       "\n",
       "    .dataframe tbody tr th {\n",
       "        vertical-align: top;\n",
       "    }\n",
       "\n",
       "    .dataframe thead th {\n",
       "        text-align: right;\n",
       "    }\n",
       "</style>\n",
       "<table border=\"1\" class=\"dataframe\">\n",
       "  <thead>\n",
       "    <tr style=\"text-align: right;\">\n",
       "      <th></th>\n",
       "      <th>Nachname</th>\n",
       "      <th>Vorname</th>\n",
       "      <th>Abteilung</th>\n",
       "      <th>Telefon</th>\n",
       "      <th>Email</th>\n",
       "      <th>Funktion</th>\n",
       "      <th>In-Marker</th>\n",
       "    </tr>\n",
       "  </thead>\n",
       "  <tbody>\n",
       "    <tr>\n",
       "      <th>0</th>\n",
       "      <td>---</td>\n",
       "      <td>---</td>\n",
       "      <td>Staatsarchiv</td>\n",
       "      <td>+41 26 305 12 70</td>\n",
       "      <td>NaN</td>\n",
       "      <td>Sekretariat</td>\n",
       "      <td>False</td>\n",
       "    </tr>\n",
       "    <tr>\n",
       "      <th>1</th>\n",
       "      <td>Abeztout</td>\n",
       "      <td>Abderrahim</td>\n",
       "      <td>Technische Abteilung</td>\n",
       "      <td>+41 26 305 37 97</td>\n",
       "      <td>abderrahim.abeztout@fr.ch</td>\n",
       "      <td>Architektin</td>\n",
       "      <td>True</td>\n",
       "    </tr>\n",
       "    <tr>\n",
       "      <th>2</th>\n",
       "      <td>Ackermann</td>\n",
       "      <td>Christophe</td>\n",
       "      <td>Finanzinspektorat</td>\n",
       "      <td>+41 26 305 31 38</td>\n",
       "      <td>christophe.ackermann@fr.ch</td>\n",
       "      <td>Adjunkt der Dienstchefin</td>\n",
       "      <td>True</td>\n",
       "    </tr>\n",
       "    <tr>\n",
       "      <th>3</th>\n",
       "      <td>Ackermann</td>\n",
       "      <td>Urs</td>\n",
       "      <td>Abteilung Institutionen und Rechtsangelenheiten</td>\n",
       "      <td>+41 26 305 14 16</td>\n",
       "      <td>urs.ackermann@fr.ch</td>\n",
       "      <td>Höherer Verwaltungssachbearbeiter</td>\n",
       "      <td>False</td>\n",
       "    </tr>\n",
       "    <tr>\n",
       "      <th>4</th>\n",
       "      <td>Adam</td>\n",
       "      <td>Samuel</td>\n",
       "      <td>Kantonsarztamt</td>\n",
       "      <td>+41 26 305 29 63</td>\n",
       "      <td>NaN</td>\n",
       "      <td>Adjunkt des Dienstchefs</td>\n",
       "      <td>False</td>\n",
       "    </tr>\n",
       "  </tbody>\n",
       "</table>\n",
       "</div>"
      ],
      "text/plain": [
       "    Nachname     Vorname                                        Abteilung  \\\n",
       "0        ---         ---                                     Staatsarchiv   \n",
       "1   Abeztout  Abderrahim                             Technische Abteilung   \n",
       "2  Ackermann  Christophe                                Finanzinspektorat   \n",
       "3  Ackermann         Urs  Abteilung Institutionen und Rechtsangelenheiten   \n",
       "4       Adam      Samuel                                   Kantonsarztamt   \n",
       "\n",
       "            Telefon                       Email  \\\n",
       "0  +41 26 305 12 70                         NaN   \n",
       "1  +41 26 305 37 97   abderrahim.abeztout@fr.ch   \n",
       "2  +41 26 305 31 38  christophe.ackermann@fr.ch   \n",
       "3  +41 26 305 14 16         urs.ackermann@fr.ch   \n",
       "4  +41 26 305 29 63                         NaN   \n",
       "\n",
       "                            Funktion  In-Marker  \n",
       "0                        Sekretariat      False  \n",
       "1                        Architektin       True  \n",
       "2           Adjunkt der Dienstchefin       True  \n",
       "3  Höherer Verwaltungssachbearbeiter      False  \n",
       "4            Adjunkt des Dienstchefs      False  "
      ]
     },
     "execution_count": 48,
     "metadata": {},
     "output_type": "execute_result"
    }
   ],
   "source": [
    "#Was geht:\n",
    "\n",
    "df['In-Marker'] = df['Funktion'].str.contains('in', regex=True)\n",
    "df.head()"
   ]
  },
  {
   "cell_type": "code",
   "execution_count": 49,
   "metadata": {},
   "outputs": [],
   "source": [
    "#Das ist natürlich nur halbgenau, weil ein Adjunkt der Dienstchefin auch als weiblich gezählt wird. "
   ]
  },
  {
   "cell_type": "code",
   "execution_count": 50,
   "metadata": {},
   "outputs": [
    {
     "data": {
      "text/plain": [
       "False    856\n",
       "True     737\n",
       "Name: In-Marker, dtype: int64"
      ]
     },
     "execution_count": 50,
     "metadata": {},
     "output_type": "execute_result"
    }
   ],
   "source": [
    "#Zählen wie viele True (F) / False (M) Werte es gibt:\n",
    "\n",
    "df['In-Marker'].value_counts()"
   ]
  },
  {
   "cell_type": "code",
   "execution_count": 51,
   "metadata": {},
   "outputs": [],
   "source": [
    "# Das heisst, grob gibt es \n",
    "# männlich    856\n",
    "# weiblich     737\n",
    "# Personen."
   ]
  },
  {
   "cell_type": "markdown",
   "metadata": {},
   "source": [
    "## Gender guesser"
   ]
  },
  {
   "cell_type": "markdown",
   "metadata": {},
   "source": [
    "Zeit für eine genauere Analyse. Mit dem Gender-Guesser."
   ]
  },
  {
   "cell_type": "code",
   "execution_count": 52,
   "metadata": {},
   "outputs": [
    {
     "data": {
      "text/html": [
       "<div>\n",
       "<style scoped>\n",
       "    .dataframe tbody tr th:only-of-type {\n",
       "        vertical-align: middle;\n",
       "    }\n",
       "\n",
       "    .dataframe tbody tr th {\n",
       "        vertical-align: top;\n",
       "    }\n",
       "\n",
       "    .dataframe thead th {\n",
       "        text-align: right;\n",
       "    }\n",
       "</style>\n",
       "<table border=\"1\" class=\"dataframe\">\n",
       "  <thead>\n",
       "    <tr style=\"text-align: right;\">\n",
       "      <th></th>\n",
       "      <th>Nachname</th>\n",
       "      <th>Vorname</th>\n",
       "      <th>Abteilung</th>\n",
       "      <th>Telefon</th>\n",
       "      <th>Email</th>\n",
       "      <th>Funktion</th>\n",
       "      <th>In-Marker</th>\n",
       "    </tr>\n",
       "  </thead>\n",
       "  <tbody>\n",
       "    <tr>\n",
       "      <th>0</th>\n",
       "      <td>---</td>\n",
       "      <td>---</td>\n",
       "      <td>Staatsarchiv</td>\n",
       "      <td>+41 26 305 12 70</td>\n",
       "      <td>NaN</td>\n",
       "      <td>Sekretariat</td>\n",
       "      <td>False</td>\n",
       "    </tr>\n",
       "    <tr>\n",
       "      <th>1</th>\n",
       "      <td>Abeztout</td>\n",
       "      <td>Abderrahim</td>\n",
       "      <td>Technische Abteilung</td>\n",
       "      <td>+41 26 305 37 97</td>\n",
       "      <td>abderrahim.abeztout@fr.ch</td>\n",
       "      <td>Architektin</td>\n",
       "      <td>True</td>\n",
       "    </tr>\n",
       "    <tr>\n",
       "      <th>2</th>\n",
       "      <td>Ackermann</td>\n",
       "      <td>Christophe</td>\n",
       "      <td>Finanzinspektorat</td>\n",
       "      <td>+41 26 305 31 38</td>\n",
       "      <td>christophe.ackermann@fr.ch</td>\n",
       "      <td>Adjunkt der Dienstchefin</td>\n",
       "      <td>True</td>\n",
       "    </tr>\n",
       "    <tr>\n",
       "      <th>3</th>\n",
       "      <td>Ackermann</td>\n",
       "      <td>Urs</td>\n",
       "      <td>Abteilung Institutionen und Rechtsangelenheiten</td>\n",
       "      <td>+41 26 305 14 16</td>\n",
       "      <td>urs.ackermann@fr.ch</td>\n",
       "      <td>Höherer Verwaltungssachbearbeiter</td>\n",
       "      <td>False</td>\n",
       "    </tr>\n",
       "    <tr>\n",
       "      <th>4</th>\n",
       "      <td>Adam</td>\n",
       "      <td>Samuel</td>\n",
       "      <td>Kantonsarztamt</td>\n",
       "      <td>+41 26 305 29 63</td>\n",
       "      <td>NaN</td>\n",
       "      <td>Adjunkt des Dienstchefs</td>\n",
       "      <td>False</td>\n",
       "    </tr>\n",
       "  </tbody>\n",
       "</table>\n",
       "</div>"
      ],
      "text/plain": [
       "    Nachname     Vorname                                        Abteilung  \\\n",
       "0        ---         ---                                     Staatsarchiv   \n",
       "1   Abeztout  Abderrahim                             Technische Abteilung   \n",
       "2  Ackermann  Christophe                                Finanzinspektorat   \n",
       "3  Ackermann         Urs  Abteilung Institutionen und Rechtsangelenheiten   \n",
       "4       Adam      Samuel                                   Kantonsarztamt   \n",
       "\n",
       "            Telefon                       Email  \\\n",
       "0  +41 26 305 12 70                         NaN   \n",
       "1  +41 26 305 37 97   abderrahim.abeztout@fr.ch   \n",
       "2  +41 26 305 31 38  christophe.ackermann@fr.ch   \n",
       "3  +41 26 305 14 16         urs.ackermann@fr.ch   \n",
       "4  +41 26 305 29 63                         NaN   \n",
       "\n",
       "                            Funktion  In-Marker  \n",
       "0                        Sekretariat      False  \n",
       "1                        Architektin       True  \n",
       "2           Adjunkt der Dienstchefin       True  \n",
       "3  Höherer Verwaltungssachbearbeiter      False  \n",
       "4            Adjunkt des Dienstchefs      False  "
      ]
     },
     "execution_count": 52,
     "metadata": {},
     "output_type": "execute_result"
    }
   ],
   "source": [
    "# Den Datensatz anzeigen:\n",
    "\n",
    "df.head()\n"
   ]
  },
  {
   "cell_type": "code",
   "execution_count": 53,
   "metadata": {},
   "outputs": [],
   "source": [
    "# Hilfe von Stack Overflow\n",
    "\n",
    "gd = gender.Detector()\n",
    "df['Gender_2'] = df['Vorname'].apply(gd.get_gender)"
   ]
  },
  {
   "cell_type": "code",
   "execution_count": 54,
   "metadata": {},
   "outputs": [
    {
     "data": {
      "text/html": [
       "<div>\n",
       "<style scoped>\n",
       "    .dataframe tbody tr th:only-of-type {\n",
       "        vertical-align: middle;\n",
       "    }\n",
       "\n",
       "    .dataframe tbody tr th {\n",
       "        vertical-align: top;\n",
       "    }\n",
       "\n",
       "    .dataframe thead th {\n",
       "        text-align: right;\n",
       "    }\n",
       "</style>\n",
       "<table border=\"1\" class=\"dataframe\">\n",
       "  <thead>\n",
       "    <tr style=\"text-align: right;\">\n",
       "      <th></th>\n",
       "      <th>Nachname</th>\n",
       "      <th>Vorname</th>\n",
       "      <th>Abteilung</th>\n",
       "      <th>Telefon</th>\n",
       "      <th>Email</th>\n",
       "      <th>Funktion</th>\n",
       "      <th>In-Marker</th>\n",
       "      <th>Gender_2</th>\n",
       "    </tr>\n",
       "  </thead>\n",
       "  <tbody>\n",
       "    <tr>\n",
       "      <th>0</th>\n",
       "      <td>---</td>\n",
       "      <td>---</td>\n",
       "      <td>Staatsarchiv</td>\n",
       "      <td>+41 26 305 12 70</td>\n",
       "      <td>NaN</td>\n",
       "      <td>Sekretariat</td>\n",
       "      <td>False</td>\n",
       "      <td>unknown</td>\n",
       "    </tr>\n",
       "    <tr>\n",
       "      <th>1</th>\n",
       "      <td>Abeztout</td>\n",
       "      <td>Abderrahim</td>\n",
       "      <td>Technische Abteilung</td>\n",
       "      <td>+41 26 305 37 97</td>\n",
       "      <td>abderrahim.abeztout@fr.ch</td>\n",
       "      <td>Architektin</td>\n",
       "      <td>True</td>\n",
       "      <td>unknown</td>\n",
       "    </tr>\n",
       "    <tr>\n",
       "      <th>2</th>\n",
       "      <td>Ackermann</td>\n",
       "      <td>Christophe</td>\n",
       "      <td>Finanzinspektorat</td>\n",
       "      <td>+41 26 305 31 38</td>\n",
       "      <td>christophe.ackermann@fr.ch</td>\n",
       "      <td>Adjunkt der Dienstchefin</td>\n",
       "      <td>True</td>\n",
       "      <td>male</td>\n",
       "    </tr>\n",
       "    <tr>\n",
       "      <th>3</th>\n",
       "      <td>Ackermann</td>\n",
       "      <td>Urs</td>\n",
       "      <td>Abteilung Institutionen und Rechtsangelenheiten</td>\n",
       "      <td>+41 26 305 14 16</td>\n",
       "      <td>urs.ackermann@fr.ch</td>\n",
       "      <td>Höherer Verwaltungssachbearbeiter</td>\n",
       "      <td>False</td>\n",
       "      <td>male</td>\n",
       "    </tr>\n",
       "    <tr>\n",
       "      <th>4</th>\n",
       "      <td>Adam</td>\n",
       "      <td>Samuel</td>\n",
       "      <td>Kantonsarztamt</td>\n",
       "      <td>+41 26 305 29 63</td>\n",
       "      <td>NaN</td>\n",
       "      <td>Adjunkt des Dienstchefs</td>\n",
       "      <td>False</td>\n",
       "      <td>male</td>\n",
       "    </tr>\n",
       "  </tbody>\n",
       "</table>\n",
       "</div>"
      ],
      "text/plain": [
       "    Nachname     Vorname                                        Abteilung  \\\n",
       "0        ---         ---                                     Staatsarchiv   \n",
       "1   Abeztout  Abderrahim                             Technische Abteilung   \n",
       "2  Ackermann  Christophe                                Finanzinspektorat   \n",
       "3  Ackermann         Urs  Abteilung Institutionen und Rechtsangelenheiten   \n",
       "4       Adam      Samuel                                   Kantonsarztamt   \n",
       "\n",
       "            Telefon                       Email  \\\n",
       "0  +41 26 305 12 70                         NaN   \n",
       "1  +41 26 305 37 97   abderrahim.abeztout@fr.ch   \n",
       "2  +41 26 305 31 38  christophe.ackermann@fr.ch   \n",
       "3  +41 26 305 14 16         urs.ackermann@fr.ch   \n",
       "4  +41 26 305 29 63                         NaN   \n",
       "\n",
       "                            Funktion  In-Marker Gender_2  \n",
       "0                        Sekretariat      False  unknown  \n",
       "1                        Architektin       True  unknown  \n",
       "2           Adjunkt der Dienstchefin       True     male  \n",
       "3  Höherer Verwaltungssachbearbeiter      False     male  \n",
       "4            Adjunkt des Dienstchefs      False     male  "
      ]
     },
     "execution_count": 54,
     "metadata": {},
     "output_type": "execute_result"
    }
   ],
   "source": [
    "df.head()"
   ]
  },
  {
   "cell_type": "code",
   "execution_count": 55,
   "metadata": {},
   "outputs": [
    {
     "data": {
      "text/plain": [
       "female           735\n",
       "male             674\n",
       "unknown          130\n",
       "mostly_male       36\n",
       "andy              13\n",
       "mostly_female      5\n",
       "Name: Gender_2, dtype: int64"
      ]
     },
     "execution_count": 55,
     "metadata": {},
     "output_type": "execute_result"
    }
   ],
   "source": [
    "# Anzahl female / male\n",
    "\n",
    "df['Gender_2'].value_counts()"
   ]
  },
  {
   "cell_type": "code",
   "execution_count": 56,
   "metadata": {},
   "outputs": [
    {
     "name": "stdout",
     "output_type": "stream",
     "text": [
      "Männlich    856\n",
      "Weiblich     737\n",
      "Name: In-Marker, dtype: int64\n"
     ]
    }
   ],
   "source": [
    "# Vergleich mit der in-Suche:\n",
    "\n",
    "print(\"\"\"Männlich    856\n",
    "Weiblich     737\n",
    "Name: In-Marker, dtype: int64\"\"\")"
   ]
  },
  {
   "cell_type": "code",
   "execution_count": 25,
   "metadata": {},
   "outputs": [],
   "source": [
    "# Um die Daten zu säubern wechsel ich auf Excel\n",
    "\n",
    "df.to_csv('Gender bereinigen.csv')"
   ]
  },
  {
   "cell_type": "code",
   "execution_count": 57,
   "metadata": {},
   "outputs": [],
   "source": [
    "df_1 = pd.read_csv('Gender bereinigt_1.csv')"
   ]
  },
  {
   "cell_type": "code",
   "execution_count": 62,
   "metadata": {},
   "outputs": [
    {
     "data": {
      "text/html": [
       "<div>\n",
       "<style scoped>\n",
       "    .dataframe tbody tr th:only-of-type {\n",
       "        vertical-align: middle;\n",
       "    }\n",
       "\n",
       "    .dataframe tbody tr th {\n",
       "        vertical-align: top;\n",
       "    }\n",
       "\n",
       "    .dataframe thead th {\n",
       "        text-align: right;\n",
       "    }\n",
       "</style>\n",
       "<table border=\"1\" class=\"dataframe\">\n",
       "  <thead>\n",
       "    <tr style=\"text-align: right;\">\n",
       "      <th></th>\n",
       "      <th>Nachname</th>\n",
       "      <th>Vorname</th>\n",
       "      <th>Abteilung</th>\n",
       "      <th>Telefon</th>\n",
       "      <th>Email</th>\n",
       "      <th>Funktion</th>\n",
       "      <th>In-Marker</th>\n",
       "      <th>Gender</th>\n",
       "    </tr>\n",
       "  </thead>\n",
       "  <tbody>\n",
       "    <tr>\n",
       "      <th>0</th>\n",
       "      <td>---</td>\n",
       "      <td>---</td>\n",
       "      <td>Staatsarchiv</td>\n",
       "      <td>+41 26 305 12 70</td>\n",
       "      <td>NaN</td>\n",
       "      <td>Sekretariat</td>\n",
       "      <td>False</td>\n",
       "      <td>no_person</td>\n",
       "    </tr>\n",
       "    <tr>\n",
       "      <th>1</th>\n",
       "      <td>Abeztout</td>\n",
       "      <td>Abderrahim</td>\n",
       "      <td>Technische Abteilung</td>\n",
       "      <td>+41 26 305 37 97</td>\n",
       "      <td>abderrahim.abeztout@fr.ch</td>\n",
       "      <td>Architektin</td>\n",
       "      <td>True</td>\n",
       "      <td>f</td>\n",
       "    </tr>\n",
       "    <tr>\n",
       "      <th>2</th>\n",
       "      <td>Ackermann</td>\n",
       "      <td>Christophe</td>\n",
       "      <td>Finanzinspektorat</td>\n",
       "      <td>+41 26 305 31 38</td>\n",
       "      <td>christophe.ackermann@fr.ch</td>\n",
       "      <td>Adjunkt der Dienstchefin</td>\n",
       "      <td>True</td>\n",
       "      <td>m</td>\n",
       "    </tr>\n",
       "  </tbody>\n",
       "</table>\n",
       "</div>"
      ],
      "text/plain": [
       "    Nachname     Vorname             Abteilung           Telefon  \\\n",
       "0        ---         ---          Staatsarchiv  +41 26 305 12 70   \n",
       "1   Abeztout  Abderrahim  Technische Abteilung  +41 26 305 37 97   \n",
       "2  Ackermann  Christophe     Finanzinspektorat  +41 26 305 31 38   \n",
       "\n",
       "                        Email                  Funktion  In-Marker     Gender  \n",
       "0                         NaN               Sekretariat      False  no_person  \n",
       "1   abderrahim.abeztout@fr.ch               Architektin       True          f  \n",
       "2  christophe.ackermann@fr.ch  Adjunkt der Dienstchefin       True          m  "
      ]
     },
     "execution_count": 62,
     "metadata": {},
     "output_type": "execute_result"
    }
   ],
   "source": [
    "df_1.head(3)"
   ]
  },
  {
   "cell_type": "code",
   "execution_count": 63,
   "metadata": {},
   "outputs": [],
   "source": [
    "# Da hat sich der Index verdoppelt. Diesen wieder löschen:\n",
    "\n",
    "df_1.pop('Unnamed: 0')"
   ]
  },
  {
   "cell_type": "code",
   "execution_count": 60,
   "metadata": {},
   "outputs": [
    {
     "data": {
      "text/html": [
       "<div>\n",
       "<style scoped>\n",
       "    .dataframe tbody tr th:only-of-type {\n",
       "        vertical-align: middle;\n",
       "    }\n",
       "\n",
       "    .dataframe tbody tr th {\n",
       "        vertical-align: top;\n",
       "    }\n",
       "\n",
       "    .dataframe thead th {\n",
       "        text-align: right;\n",
       "    }\n",
       "</style>\n",
       "<table border=\"1\" class=\"dataframe\">\n",
       "  <thead>\n",
       "    <tr style=\"text-align: right;\">\n",
       "      <th></th>\n",
       "      <th>Nachname</th>\n",
       "      <th>Vorname</th>\n",
       "      <th>Abteilung</th>\n",
       "      <th>Telefon</th>\n",
       "      <th>Email</th>\n",
       "      <th>Funktion</th>\n",
       "      <th>In-Marker</th>\n",
       "      <th>Gender</th>\n",
       "    </tr>\n",
       "  </thead>\n",
       "  <tbody>\n",
       "    <tr>\n",
       "      <th>0</th>\n",
       "      <td>---</td>\n",
       "      <td>---</td>\n",
       "      <td>Staatsarchiv</td>\n",
       "      <td>+41 26 305 12 70</td>\n",
       "      <td>NaN</td>\n",
       "      <td>Sekretariat</td>\n",
       "      <td>False</td>\n",
       "      <td>no_person</td>\n",
       "    </tr>\n",
       "    <tr>\n",
       "      <th>1</th>\n",
       "      <td>Abeztout</td>\n",
       "      <td>Abderrahim</td>\n",
       "      <td>Technische Abteilung</td>\n",
       "      <td>+41 26 305 37 97</td>\n",
       "      <td>abderrahim.abeztout@fr.ch</td>\n",
       "      <td>Architektin</td>\n",
       "      <td>True</td>\n",
       "      <td>f</td>\n",
       "    </tr>\n",
       "    <tr>\n",
       "      <th>2</th>\n",
       "      <td>Ackermann</td>\n",
       "      <td>Christophe</td>\n",
       "      <td>Finanzinspektorat</td>\n",
       "      <td>+41 26 305 31 38</td>\n",
       "      <td>christophe.ackermann@fr.ch</td>\n",
       "      <td>Adjunkt der Dienstchefin</td>\n",
       "      <td>True</td>\n",
       "      <td>m</td>\n",
       "    </tr>\n",
       "  </tbody>\n",
       "</table>\n",
       "</div>"
      ],
      "text/plain": [
       "    Nachname     Vorname             Abteilung           Telefon  \\\n",
       "0        ---         ---          Staatsarchiv  +41 26 305 12 70   \n",
       "1   Abeztout  Abderrahim  Technische Abteilung  +41 26 305 37 97   \n",
       "2  Ackermann  Christophe     Finanzinspektorat  +41 26 305 31 38   \n",
       "\n",
       "                        Email                  Funktion  In-Marker     Gender  \n",
       "0                         NaN               Sekretariat      False  no_person  \n",
       "1   abderrahim.abeztout@fr.ch               Architektin       True          f  \n",
       "2  christophe.ackermann@fr.ch  Adjunkt der Dienstchefin       True          m  "
      ]
     },
     "execution_count": 60,
     "metadata": {},
     "output_type": "execute_result"
    }
   ],
   "source": [
    "# Check wie die Tabelle jetzt aussieht\n",
    "\n",
    "df_1.head(3)"
   ]
  },
  {
   "cell_type": "code",
   "execution_count": 61,
   "metadata": {},
   "outputs": [
    {
     "data": {
      "text/plain": [
       "f            806\n",
       "m            775\n",
       "no_person     10\n",
       "doppel         2\n",
       "Name: Gender, dtype: int64"
      ]
     },
     "execution_count": 61,
     "metadata": {},
     "output_type": "execute_result"
    }
   ],
   "source": [
    "df_1['Gender'].value_counts()"
   ]
  },
  {
   "cell_type": "markdown",
   "metadata": {},
   "source": [
    "## Zwischenstand\n",
    "\n",
    "So far so toll. Weitere Tasks:\n",
    "* Doppel finden\n",
    "* Einträge Direktionen zuordnen\n",
    "\n",
    "Fragen an den Datensatz:\n",
    "* Wie viele Dienstchef/innen gibt es?\n",
    "* Wie vile Sekretär/innen ?"
   ]
  },
  {
   "cell_type": "code",
   "execution_count": null,
   "metadata": {},
   "outputs": [],
   "source": []
  }
 ],
 "metadata": {
  "kernelspec": {
   "display_name": "Python 3",
   "language": "python",
   "name": "python3"
  },
  "language_info": {
   "codemirror_mode": {
    "name": "ipython",
    "version": 3
   },
   "file_extension": ".py",
   "mimetype": "text/x-python",
   "name": "python",
   "nbconvert_exporter": "python",
   "pygments_lexer": "ipython3",
   "version": "3.7.3"
  }
 },
 "nbformat": 4,
 "nbformat_minor": 2
}
