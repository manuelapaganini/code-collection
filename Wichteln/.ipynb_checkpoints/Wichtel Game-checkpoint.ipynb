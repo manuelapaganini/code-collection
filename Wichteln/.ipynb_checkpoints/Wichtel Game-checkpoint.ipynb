{
 "cells": [
  {
   "cell_type": "markdown",
   "metadata": {},
   "source": [
    "# Wichtel Game"
   ]
  },
  {
   "cell_type": "markdown",
   "metadata": {},
   "source": [
    "This code attributes randomly players to give gifts to ohter people of the group. People could chose to give more than one gift. Every person receives as many gifts as they give themselves. "
   ]
  },
  {
   "cell_type": "code",
   "execution_count": 5,
   "metadata": {},
   "outputs": [
    {
     "name": "stdout",
     "output_type": "stream",
     "text": [
      "A gives a gift to ['C', 'C']\n",
      "B gives a gift to ['C', 'G']\n",
      "C gives a gift to ['D', 'D']\n",
      "D gives a gift to ['G', 'C']\n",
      "E gives a gift to ['C']\n",
      "F gives a gift to ['G']\n",
      "G gives a gift to ['A']\n"
     ]
    }
   ],
   "source": [
    "from random import choice\n",
    "\n",
    "players = [\"A\", \"A\", \"B\", \"B\", \"C\", \"C\", \"D\", \"D\", \"E\", \"F\", \"G\"]\n",
    "choices = list.copy(players)\n",
    "matches = {}\n",
    "\n",
    "# attribute players to matches and add them to a dictionary\n",
    "def random_match(player):\n",
    "    # check if a match was made\n",
    "    match_found = False\n",
    "    while not match_found:\n",
    "        # find a match that is not the player himself\n",
    "        match = (choice([i for i in choices if i != player]))\n",
    "        # Check the player is in our dictionary of pairs...\n",
    "        if player not in matches.keys():\n",
    "            # if that's not the case, add the pair\n",
    "            matches[player] = [match]\n",
    "            match_found = True\n",
    "        elif matches[player] != match:\n",
    "            # if the pair is already in there, add another match to the value\n",
    "            matches[player] = matches[player] + [match]\n",
    "            match_found = True\n",
    "        else:\n",
    "            continue\n",
    "\n",
    "# run the matching function for every entry in the players list\n",
    "for player in players:\n",
    "    random_match(player)\n",
    "\n",
    "# print the matches using the dictionary\n",
    "for player in matches.keys():\n",
    "    print(player + \" gives a gift to \" + str(matches[player]))\n"
   ]
  },
  {
   "cell_type": "markdown",
   "metadata": {},
   "source": [
    "Todo: build a function to prevent the same person giving 2 gifts to another person"
   ]
  }
 ],
 "metadata": {
  "kernelspec": {
   "display_name": "Python 3",
   "language": "python",
   "name": "python3"
  },
  "language_info": {
   "codemirror_mode": {
    "name": "ipython",
    "version": 3
   },
   "file_extension": ".py",
   "mimetype": "text/x-python",
   "name": "python",
   "nbconvert_exporter": "python",
   "pygments_lexer": "ipython3",
   "version": "3.7.3"
  }
 },
 "nbformat": 4,
 "nbformat_minor": 2
}
