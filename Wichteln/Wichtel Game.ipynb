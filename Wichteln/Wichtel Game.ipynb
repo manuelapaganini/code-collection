{
 "cells": [
  {
   "cell_type": "markdown",
   "metadata": {},
   "source": [
    "# Wichtel Game"
   ]
  },
  {
   "cell_type": "markdown",
   "metadata": {},
   "source": [
    "This code attributes randomly players to others. The aim is for them to give a positive feedback to ohter people of the group. People could chose to give more than one feedback. Every person receives as many feedbacks as they give themselves. And no one gives more than one feedback to the same person. "
   ]
  },
  {
   "cell_type": "code",
   "execution_count": 1,
   "metadata": {},
   "outputs": [
    {
     "name": "stdout",
     "output_type": "stream",
     "text": [
      "A gives a gift to ['B', 'E', 'C']\n",
      "B gives a gift to ['A', 'D']\n",
      "C gives a gift to ['B', 'A']\n",
      "D gives a gift to ['A']\n",
      "E gives a gift to ['C']\n"
     ]
    }
   ],
   "source": [
    "from random import choice\n",
    "\n",
    "players = [\"A\", \"A\", \"A\", \"B\", \"B\", \"C\", \"C\", \"D\", \"E\"]\n",
    "choices = list.copy(players)\n",
    "matches = {}\n",
    "\n",
    "# attribute players to matches and add them to a dictionary\n",
    "def random_match(player):\n",
    "    match_found = False\n",
    "    while not match_found:\n",
    "        # find a match that is not the player himself\n",
    "        match = (choice([i for i in choices if i != player]))\n",
    "        # Check the player is in our dictionary of pairs and if not add it to the dict\n",
    "        if player not in matches.keys():\n",
    "            matches[player] = [match]\n",
    "            match_found = True\n",
    "            # remove match from choices\n",
    "            choices.remove(match)\n",
    "        elif matches[player] != match:\n",
    "            matches[player] = matches[player] + [match]\n",
    "            match_found = True\n",
    "            choices.remove(match)\n",
    "        else:\n",
    "            continue\n",
    "\n",
    "# attribute a partner from choices for every entry in players\n",
    "for player in players:\n",
    "    random_match(player)\n",
    "\n",
    "# print the matches using the dictionary\n",
    "for player in matches.keys():\n",
    "    print(player + \" gives a gift to \" + str(matches[player]))\n"
   ]
  },
  {
   "cell_type": "code",
   "execution_count": null,
   "metadata": {},
   "outputs": [],
   "source": []
  }
 ],
 "metadata": {
  "kernelspec": {
   "display_name": "Python 3",
   "language": "python",
   "name": "python3"
  },
  "language_info": {
   "codemirror_mode": {
    "name": "ipython",
    "version": 3
   },
   "file_extension": ".py",
   "mimetype": "text/x-python",
   "name": "python",
   "nbconvert_exporter": "python",
   "pygments_lexer": "ipython3",
   "version": "3.7.3"
  }
 },
 "nbformat": 4,
 "nbformat_minor": 2
}
