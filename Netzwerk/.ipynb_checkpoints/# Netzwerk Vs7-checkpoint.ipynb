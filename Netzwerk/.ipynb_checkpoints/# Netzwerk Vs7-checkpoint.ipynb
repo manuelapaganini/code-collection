{
 "cells": [
  {
   "cell_type": "markdown",
   "metadata": {},
   "source": [
    "# Netzwerk Vs7"
   ]
  },
  {
   "cell_type": "markdown",
   "metadata": {},
   "source": []
  },
  {
   "cell_type": "code",
   "execution_count": 1,
   "metadata": {},
   "outputs": [],
   "source": [
    "# import stuff\n",
    "\n",
    "import networkx as nx\n",
    "import random\n",
    "import itertools\n",
    "import math"
   ]
  },
  {
   "cell_type": "code",
   "execution_count": null,
   "metadata": {},
   "outputs": [],
   "source": [
    "#n_user_list = [50]\n",
    "n_questions_l = [5, 7]\n",
    "p_dontcare_l = [0.3, 0.4]\n",
    "min_disagreements_l = [2, 3, 4]\n",
    "\n",
    "n_users = 50"
   ]
  },
  {
   "cell_type": "code",
   "execution_count": null,
   "metadata": {},
   "outputs": [],
   "source": [
    "for n_questions in n_questions_list:\n",
    "    for p_dontcare in p_dontcare_list:\n",
    "        for min_disagreements in min_disagreements_list:\n",
    "            print(n_questions, p_dontcare, min_disagreements)\n",
    "            \n",
    "        "
   ]
  },
  {
   "cell_type": "code",
   "execution_count": null,
   "metadata": {},
   "outputs": [],
   "source": []
  },
  {
   "cell_type": "code",
   "execution_count": null,
   "metadata": {},
   "outputs": [],
   "source": [
    "# far too long list comprehension\n",
    "[[[(n_questions, p_dontcare, min_disagreements) for min_disagreements in min_disagreements_l] for p_dontcare in p_dontcare_l] for n_questions in n_questions_l]"
   ]
  },
  {
   "cell_type": "code",
   "execution_count": null,
   "metadata": {},
   "outputs": [],
   "source": [
    "# hybrid of normal for loop and list comprehension\n",
    "\n",
    "for min_disagreements in min_disagreements_l:\n",
    "    [[print(min_disagreements, n_questions, p_dontcare) for p_dontcare in p_dontcare_l] for n_questions in n_questions_l]"
   ]
  },
  {
   "cell_type": "code",
   "execution_count": 3,
   "metadata": {},
   "outputs": [
    {
     "name": "stdout",
     "output_type": "stream",
     "text": [
      "Min nr of disagreements: 2\n",
      "Nr of questions: 5 \n",
      "Average questions answered: 3.5\n",
      "-> 42/100 users matched\n",
      "--------\n",
      "Min nr of disagreements: 2\n",
      "Nr of questions: 5 \n",
      "Average questions answered: 3.0\n",
      "-> 34/100 users matched\n",
      "--------\n",
      "Min nr of disagreements: 2\n",
      "Nr of questions: 7 \n",
      "Average questions answered: 4.9\n",
      "-> 48/100 users matched\n",
      "--------\n",
      "Min nr of disagreements: 2\n",
      "Nr of questions: 7 \n",
      "Average questions answered: 4.2\n",
      "-> 42/100 users matched\n",
      "--------\n",
      "Min nr of disagreements: 3\n",
      "Nr of questions: 5 \n",
      "Average questions answered: 3.5\n",
      "-> 20/100 users matched\n",
      "--------\n",
      "Min nr of disagreements: 3\n",
      "Nr of questions: 5 \n",
      "Average questions answered: 3.0\n",
      "-> 4/100 users matched\n",
      "--------\n",
      "Min nr of disagreements: 3\n",
      "Nr of questions: 7 \n",
      "Average questions answered: 4.9\n",
      "-> 39/100 users matched\n",
      "--------\n",
      "Min nr of disagreements: 3\n",
      "Nr of questions: 7 \n",
      "Average questions answered: 4.2\n",
      "-> 23/100 users matched\n",
      "--------\n",
      "Min nr of disagreements: 4\n",
      "Nr of questions: 5 \n",
      "Average questions answered: 3.5\n",
      "-> 2/100 users matched\n",
      "--------\n",
      "Min nr of disagreements: 4\n",
      "Nr of questions: 5 \n",
      "Average questions answered: 3.0\n",
      "-> 1/100 users matched\n",
      "--------\n",
      "Min nr of disagreements: 4\n",
      "Nr of questions: 7 \n",
      "Average questions answered: 4.9\n",
      "-> 17/100 users matched\n",
      "--------\n",
      "Min nr of disagreements: 4\n",
      "Nr of questions: 7 \n",
      "Average questions answered: 4.2\n",
      "-> 7/100 users matched\n",
      "--------\n"
     ]
    }
   ],
   "source": [
    "# \n",
    "\n",
    "# set values\n",
    "n_questions_l = [5, 7]\n",
    "p_dontcare_l = [0.3, 0.4]\n",
    "min_disagreements_l = [2, 3, 4]\n",
    "\n",
    "n_users = 100\n",
    "\n",
    "\n",
    "# count disagreements\n",
    "def n_disagreements(a, b):\n",
    "    count = 0\n",
    "    if len(a) == len(b):\n",
    "        for i,j in zip(a,b):\n",
    "            if i+j == 1:\n",
    "                count += 1\n",
    "        return count\n",
    "    return -1 \n",
    "\n",
    "# generate one answer\n",
    "def create_answer(p_dontcare):\n",
    "    chance = random.random()\n",
    "    if chance <= p_dontcare:\n",
    "        rand = -1\n",
    "    elif chance > (1-(1-p_dontcare)/2):\n",
    "        rand = 0\n",
    "    else:\n",
    "        rand = 1\n",
    "    return(rand)\n",
    "\n",
    "# generate a set of answer for each user\n",
    "def create_answer_arrays(n_users, n_questions, p_dontcare):\n",
    "    arrays = [[create_answer(p_dontcare) for j in range (n_questions)] for i in range(n_users)]\n",
    "    return arrays\n",
    "\n",
    "# create graph, add nodes for each user, add edges if disagreements are high enough \n",
    "def simulate_user_numbers(min_disagreements, n_users, n_questions, p_dontcare):\n",
    "    arrays = create_answer_arrays(n_users, n_questions, p_dontcare)\n",
    "    G = nx.Graph()\n",
    "    G.add_nodes_from(list(range(n_users)))\n",
    "    for i, j in itertools.combinations(range(n_users), 2):\n",
    "        disagreements = n_disagreements(arrays[i],arrays[j])\n",
    "        if disagreements > min_disagreements:\n",
    "            G.add_edge(j,i, weight = math.log(disagreements))\n",
    "    matching = nx.max_weight_matching(G)\n",
    "    \n",
    "    # print stuff                                                                       \n",
    "   \n",
    "    print(\"Min nr of disagreements: \" + str(min_disagreements)  + \"\\n\" +\n",
    "          \"Nr of questions: \" + str(n_questions), \"\\n\" + \"Average questions answered: \" + str(round(n_questions*(1-p_dontcare),3)) +\"\\n\" +  \n",
    "          \"-> \" + str(len(matching)) + \"/\" + str(n_users), \n",
    "          \"users matched\" +\"\\n\" + \"--------\")\n",
    "    \n",
    "for min_disagreements in min_disagreements_l:\n",
    "    [[simulate_user_numbers(min_disagreements, n_users, n_questions, p_dontcare) for p_dontcare in p_dontcare_l] for n_questions in n_questions_l]\n"
   ]
  },
  {
   "cell_type": "code",
   "execution_count": null,
   "metadata": {},
   "outputs": [],
   "source": []
  },
  {
   "cell_type": "code",
   "execution_count": null,
   "metadata": {},
   "outputs": [],
   "source": []
  },
  {
   "cell_type": "code",
   "execution_count": null,
   "metadata": {},
   "outputs": [],
   "source": []
  }
 ],
 "metadata": {
  "kernelspec": {
   "display_name": "Python 3",
   "language": "python",
   "name": "python3"
  },
  "language_info": {
   "codemirror_mode": {
    "name": "ipython",
    "version": 3
   },
   "file_extension": ".py",
   "mimetype": "text/x-python",
   "name": "python",
   "nbconvert_exporter": "python",
   "pygments_lexer": "ipython3",
   "version": "3.7.3"
  }
 },
 "nbformat": 4,
 "nbformat_minor": 2
}
