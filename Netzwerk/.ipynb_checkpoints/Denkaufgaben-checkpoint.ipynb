{
 "cells": [
  {
   "cell_type": "markdown",
   "metadata": {},
   "source": [
    "# Network in nice"
   ]
  },
  {
   "cell_type": "code",
   "execution_count": null,
   "metadata": {},
   "outputs": [],
   "source": []
  },
  {
   "cell_type": "code",
   "execution_count": 1,
   "metadata": {},
   "outputs": [],
   "source": [
    "import networkx as nx\n",
    "import matplotlib.pyplot as plt\n",
    "%matplotlib inline\n",
    "import warnings\n",
    "warnings.filterwarnings('ignore')\n",
    "import random\n",
    "import array as arr "
   ]
  },
  {
   "cell_type": "markdown",
   "metadata": {},
   "source": [
    "### Übung 1\n",
    "Mach mit networkx ein Netzwerk aus 20 nodes und speichere in jeder node einen fünfelementigen Array, von dem jedes Element randomly entweder -1, 0 oder 1 ist"
   ]
  },
  {
   "cell_type": "code",
   "execution_count": 10,
   "metadata": {},
   "outputs": [
    {
     "name": "stdout",
     "output_type": "stream",
     "text": [
      "[(0, {'arr': [0, 1, 0, 1, 0]}), (1, {'arr': [0, 1, 0, 1, 0]}), (2, {'arr': [0, 1, 0, 1, 0]}), (3, {'arr': [0, 1, 0, 1, 0]}), (4, {'arr': [0, 1, 0, 1, 0]}), (5, {'arr': [0, 1, 0, 1, 0]}), (6, {'arr': [0, 1, 0, 1, 0]}), (7, {'arr': [0, 1, 0, 1, 0]}), (8, {'arr': [0, 1, 0, 1, 0]}), (9, {'arr': [0, 1, 0, 1, 0]}), (10, {'arr': [0, 1, 0, 1, 0]}), (11, {'arr': [0, 1, 0, 1, 0]}), (12, {'arr': [0, 1, 0, 1, 0]}), (13, {'arr': [0, 1, 0, 1, 0]}), (14, {'arr': [0, 1, 0, 1, 0]}), (15, {'arr': [0, 1, 0, 1, 0]}), (16, {'arr': [0, 1, 0, 1, 0]}), (17, {'arr': [0, 1, 0, 1, 0]}), (18, {'arr': [0, 1, 0, 1, 0]}), (19, {'arr': [0, 1, 0, 1, 0]})]\n"
     ]
    }
   ],
   "source": [
    "def create_graph(n_nodes, n_array):\n",
    "    G = nx.Graph()\n",
    "    G.add_nodes_from(list(range(n_nodes)), arr= [random.randrange(-1,2) for j in range (n_array)])\n",
    "    \n",
    "    print(list(G.nodes(data=True)))\n",
    "    \n",
    "create_graph(20, 5)\n"
   ]
  },
  {
   "cell_type": "code",
   "execution_count": null,
   "metadata": {},
   "outputs": [],
   "source": []
  },
  {
   "cell_type": "markdown",
   "metadata": {},
   "source": [
    "### Übung 2\n",
    "\n",
    "Schreibe eine Funktion, die als Argument zwei gleichlange Arrays nimmt. Der Output ist die Anzahl Positionen im Array, wo einer davon 1 und einer 0 hat (jeweils egal welcher)."
   ]
  },
  {
   "cell_type": "code",
   "execution_count": null,
   "metadata": {},
   "outputs": [],
   "source": [
    "\n",
    "\n",
    "\n"
   ]
  }
 ],
 "metadata": {
  "kernelspec": {
   "display_name": "Python 3",
   "language": "python",
   "name": "python3"
  },
  "language_info": {
   "codemirror_mode": {
    "name": "ipython",
    "version": 3
   },
   "file_extension": ".py",
   "mimetype": "text/x-python",
   "name": "python",
   "nbconvert_exporter": "python",
   "pygments_lexer": "ipython3",
   "version": "3.7.3"
  }
 },
 "nbformat": 4,
 "nbformat_minor": 2
}
