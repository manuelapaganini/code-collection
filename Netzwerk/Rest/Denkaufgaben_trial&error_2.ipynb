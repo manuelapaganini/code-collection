{
 "cells": [
  {
   "cell_type": "markdown",
   "metadata": {},
   "source": [
    "# Denkaufgaben"
   ]
  },
  {
   "cell_type": "code",
   "execution_count": null,
   "metadata": {},
   "outputs": [],
   "source": []
  },
  {
   "cell_type": "code",
   "execution_count": 1,
   "metadata": {},
   "outputs": [],
   "source": [
    "import networkx as nx\n",
    "import random\n",
    "import itertools"
   ]
  },
  {
   "cell_type": "markdown",
   "metadata": {},
   "source": [
    "### Übung 1\n",
    "Mach mit networkx ein Netzwerk aus 20 nodes und speichere in jeder node einen fünfelementigen Array, von dem jedes Element randomly entweder -1, 0 oder 1 ist"
   ]
  },
  {
   "cell_type": "code",
   "execution_count": null,
   "metadata": {},
   "outputs": [],
   "source": [
    "G = nx.Graph()  \n",
    "\n",
    "for i in range(20):\n",
    "    G.add_node(i, arr = [random.randrange(-1,2) for j in range (5)])\n",
    "\n",
    "list(G.nodes(data=True))"
   ]
  },
  {
   "cell_type": "markdown",
   "metadata": {},
   "source": [
    "1) Tiptop! Jetzt können wir die Teile anfangen zusammenzubauen. Hier sind 20 und 5 hardcoded. Kannst Du eine Funktion schreiben, die diese beiden Parameter als Inputs nimmt und anstatt random Zahlen die Funktion aus 3) verwendet? Konkret hiesse das, dass parametrierbar sind: 1) Anzahl Nodes (hier 20), 2) Länge der Arrays (hier 5), 3) Wahrscheinlichkeit von -1 (hier 40%)."
   ]
  },
  {
   "cell_type": "code",
   "execution_count": 2,
   "metadata": {},
   "outputs": [
    {
     "data": {
      "text/plain": [
       "[]"
      ]
     },
     "execution_count": 2,
     "metadata": {},
     "output_type": "execute_result"
    }
   ],
   "source": [
    "G = nx.Graph()  \n",
    "n_nodes = 20\n",
    "n_arr = 5\n",
    "probability = 0.4\n",
    "\n",
    "def create_nodes(n_nodes, n_arr):\n",
    "    for i in range(n_nodes):\n",
    "        G.add_node(i, arr = [random.randrange(-1,2) for j in range (n_arr)])\n",
    "    return G\n",
    "\n",
    "list(G.nodes(data=True))"
   ]
  },
  {
   "cell_type": "code",
   "execution_count": null,
   "metadata": {},
   "outputs": [],
   "source": []
  },
  {
   "cell_type": "code",
   "execution_count": null,
   "metadata": {},
   "outputs": [],
   "source": []
  },
  {
   "cell_type": "markdown",
   "metadata": {},
   "source": [
    "### Übung 2\n",
    "\n",
    "Schreibe eine Funktion, die als Argument zwei gleichlange Arrays nimmt. Der Output ist die Anzahl Positionen im Array, wo einer davon 1 und einer 0 hat (jeweils egal welcher)."
   ]
  },
  {
   "cell_type": "code",
   "execution_count": 3,
   "metadata": {},
   "outputs": [],
   "source": [
    "\n",
    "a = [1, 0, 0, 0, -1]\n",
    "b = [0, -1, 1, 0, -1]\n",
    "c = [0, 0, 1, 1, 1]\n",
    "d = [-1, 0, -1, 0, 0]\n",
    "e = [0, -1, 0, -1, 0]\n",
    "f = [1, -1, 0, 1, 1]"
   ]
  },
  {
   "cell_type": "code",
   "execution_count": null,
   "metadata": {},
   "outputs": [],
   "source": [
    "def compare_array(e, f):\n",
    "    count = 0\n",
    "    for i,j in zip(a,b):\n",
    "        if i == 0 and j == 1:\n",
    "            count += 1\n",
    "        elif i == 1 and j == 0:\n",
    "            count += 1\n",
    "    print(\"Count is\", str(count))\n",
    "\n",
    "compare_array(c, a)"
   ]
  },
  {
   "cell_type": "markdown",
   "metadata": {},
   "source": [
    "2) zip() ist sehr geil, kannte ich nicht. Dort würde ich mir noch wünschen, dass zuerst überprüft wird, ob beide iterables gleich lang sind; wenn nein würde ich -1 zurückgeben. Und: Es gibt (bei diesen möglichen Inputs) eine sehr elegante Abfrage, um herauszufinden, ob der eine genau 1 und der andere genau 0 ist. Überlegs Dir etwa 1min, sonst sag ichs :). Die Funktion soll die Anzahl zurückgeben, nicht printen (zum testen natürlich OK)"
   ]
  },
  {
   "cell_type": "code",
   "execution_count": null,
   "metadata": {},
   "outputs": [],
   "source": [
    "def compare_array(a, b):\n",
    "    count = 0\n",
    "    for i,j in zip(a,b):\n",
    "        if i == 0 and j == 1:\n",
    "            count += 1\n",
    "        elif i == 1 and j == 0:\n",
    "            count += 1\n",
    "    print(\"Count is\", str(count))\n",
    "\n",
    "compare_array(c, a)"
   ]
  },
  {
   "cell_type": "code",
   "execution_count": 4,
   "metadata": {},
   "outputs": [
    {
     "data": {
      "text/plain": [
       "3"
      ]
     },
     "execution_count": 4,
     "metadata": {},
     "output_type": "execute_result"
    }
   ],
   "source": [
    "def compare_arr(a, b):\n",
    "    count = 0\n",
    "    if len(a) == len(b):\n",
    "        for i,j in zip(a,b):\n",
    "            if i == 0 and j == 1:\n",
    "                count += 1\n",
    "            elif i == 1 and j ==0:\n",
    "                count += 1\n",
    "        return(count)\n",
    "                \n",
    "compare_arr(c,a) "
   ]
  },
  {
   "cell_type": "code",
   "execution_count": null,
   "metadata": {},
   "outputs": [],
   "source": []
  },
  {
   "cell_type": "markdown",
   "metadata": {},
   "source": [
    "### Übung 3\n",
    "\n",
    "Schreibe eine Funktion, die mit 40%iger Wahrscheinlichkeit -1 zurückgibt und ansonsten mit je gleicher Wahrscheinlichkeit 0 oder 1."
   ]
  },
  {
   "cell_type": "code",
   "execution_count": 5,
   "metadata": {},
   "outputs": [],
   "source": [
    "\n",
    "def almost_random():\n",
    "    chance = random.random()\n",
    "    if chance <= 0.4:\n",
    "        rand = -1\n",
    "    elif chance > 0.7:\n",
    "        rand = 0\n",
    "    else:\n",
    "        rand = 1\n",
    "    return(rand)"
   ]
  },
  {
   "cell_type": "code",
   "execution_count": 6,
   "metadata": {},
   "outputs": [
    {
     "name": "stdout",
     "output_type": "stream",
     "text": [
      "378\n",
      "328\n",
      "294\n"
     ]
    }
   ],
   "source": [
    "# Check probabilities\n",
    "\n",
    "rand_list = []\n",
    "\n",
    "for i in range(1000):\n",
    "    rand_list.append(almost_random())\n",
    "                     \n",
    "print(rand_list.count(-1))\n",
    "print(rand_list.count(0))\n",
    "print(rand_list.count(1))"
   ]
  },
  {
   "cell_type": "markdown",
   "metadata": {},
   "source": [
    "3) Kannst Du almost_random() parametrierbar machen? Ie. es würde 0.4 als Input erhalten und den Rest selber berechnen (0.7 ist im Moment hardcoded). Du kannst davon ausgehen, dass das, was NICHT -1 ist, immer je gleich wahrscheinlich ist."
   ]
  },
  {
   "cell_type": "markdown",
   "metadata": {},
   "source": [
    "Auch noch 3) Du hast in der ersten \"Aufgabe\" 🤓 sehr nice mit list comprehension gearbeitet, rand_list ginge so auch eleganter."
   ]
  },
  {
   "cell_type": "code",
   "execution_count": 7,
   "metadata": {},
   "outputs": [],
   "source": [
    "\n",
    "probability = 0.4\n",
    "\n",
    "\n",
    "def almost_random(probability):\n",
    "    chance = random.random()\n",
    "    if chance <= probability:\n",
    "        rand = -1\n",
    "    elif chance > (1-(1-probability)/2):\n",
    "        rand = 0\n",
    "    else:\n",
    "        rand = 1\n",
    "    return(rand)"
   ]
  },
  {
   "cell_type": "code",
   "execution_count": 8,
   "metadata": {},
   "outputs": [
    {
     "name": "stdout",
     "output_type": "stream",
     "text": [
      "392\n",
      "322\n",
      "286\n"
     ]
    }
   ],
   "source": [
    "rand_list = []\n",
    "[rand_list.append(almost_random(probability)) for i in range(1000)]    \n",
    "\n",
    "print(rand_list.count(-1))\n",
    "print(rand_list.count(0))\n",
    "print(rand_list.count(1))"
   ]
  },
  {
   "cell_type": "code",
   "execution_count": null,
   "metadata": {},
   "outputs": [],
   "source": []
  },
  {
   "cell_type": "markdown",
   "metadata": {},
   "source": [
    "Das alles zusammen:"
   ]
  },
  {
   "cell_type": "code",
   "execution_count": null,
   "metadata": {},
   "outputs": [],
   "source": []
  },
  {
   "cell_type": "code",
   "execution_count": 3,
   "metadata": {},
   "outputs": [
    {
     "data": {
      "text/plain": [
       "2"
      ]
     },
     "execution_count": 3,
     "metadata": {},
     "output_type": "execute_result"
    }
   ],
   "source": []
  },
  {
   "cell_type": "code",
   "execution_count": 9,
   "metadata": {},
   "outputs": [],
   "source": [
    "# Nr 3\n",
    "\n",
    "n_nodes = 20\n",
    "n_arr = 5\n",
    "probability = 0.4\n",
    "\n",
    "a = [1, 0, 0, 0, -1]\n",
    "b = [0, -1, 1, 0, -1]\n",
    "\n",
    "def almost_random(probability):\n",
    "    chance = random.random()\n",
    "    if chance <= probability:\n",
    "        rand = -1\n",
    "    elif chance > (1-(1-probability)/2):\n",
    "        rand = 0\n",
    "    else:\n",
    "        rand = 1\n",
    "    return(rand)"
   ]
  },
  {
   "cell_type": "code",
   "execution_count": 10,
   "metadata": {},
   "outputs": [
    {
     "data": {
      "text/plain": [
       "[]"
      ]
     },
     "execution_count": 10,
     "metadata": {},
     "output_type": "execute_result"
    }
   ],
   "source": [
    "# Nr 1\n",
    "\n",
    "def create_nodes(n_nodes, n_arr, probability):\n",
    "    G = nx.Graph()\n",
    "    for i in range(n_nodes):\n",
    "        G.add_node(i, arr = [almost_random(probability) for j in range (n_arr)])\n",
    "    return G\n",
    "\n",
    "create_nodes(n_nodes, n_arr, probability)\n",
    "list(G.nodes(data=True))"
   ]
  },
  {
   "cell_type": "code",
   "execution_count": 11,
   "metadata": {},
   "outputs": [],
   "source": [
    "# Nr 2\n",
    "\n",
    "def compare_arr(a, b):\n",
    "    count = 0\n",
    "    if len(a) == len(b):\n",
    "        for i,j in zip(a,b):\n",
    "            if i == 0 and j == 1:\n",
    "                count += 1\n",
    "            elif i == 1 and j ==0:\n",
    "                count += 1\n",
    "        return(count)\n",
    "                \n"
   ]
  },
  {
   "cell_type": "code",
   "execution_count": null,
   "metadata": {},
   "outputs": [],
   "source": [
    "\n"
   ]
  },
  {
   "cell_type": "code",
   "execution_count": null,
   "metadata": {},
   "outputs": [],
   "source": []
  }
 ],
 "metadata": {
  "kernelspec": {
   "display_name": "Python 3",
   "language": "python",
   "name": "python3"
  },
  "language_info": {
   "codemirror_mode": {
    "name": "ipython",
    "version": 3
   },
   "file_extension": ".py",
   "mimetype": "text/x-python",
   "name": "python",
   "nbconvert_exporter": "python",
   "pygments_lexer": "ipython3",
   "version": "3.7.3"
  }
 },
 "nbformat": 4,
 "nbformat_minor": 2
}
