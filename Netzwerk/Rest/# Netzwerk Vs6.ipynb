{
 "cells": [
  {
   "cell_type": "markdown",
   "metadata": {},
   "source": [
    "# Netzwerk Vs6"
   ]
  },
  {
   "cell_type": "markdown",
   "metadata": {},
   "source": [
    "Radius-schweiz.ch bringt Leute mit unterschiedlichen politischen Meinungen für ein Gespräch zusammen. Ein Update des Matching-Mechanismus sieht vor, dass die User bei den Fragen ja, nein oder egal anwählen können. \n",
    "\n",
    "Der Code berechnet die Wahrscheinlichkeit, wie viele Paare es geben wird, die ein Gespräch führen können. Dabei lässt sich einstellen wie viele User und Fragen es gibt, wie viele Fragen den Leuten im Schnitt egal sind, und wie viele Fragen von den Usern unterschiedlich beantwortet werden müssen damit sich ein Gespräch lohnt."
   ]
  },
  {
   "cell_type": "code",
   "execution_count": 57,
   "metadata": {},
   "outputs": [
    {
     "name": "stdout",
     "output_type": "stream",
     "text": [
      "19/50 users matched; average questions answered: 3.335\n"
     ]
    },
    {
     "data": {
      "image/png": "[encoded data removed]",
      "text/plain": [
       "<Figure size 432x288 with 1 Axes>"
      ]
     },
     "metadata": {},
     "output_type": "display_data"
    }
   ],
   "source": [
    "# import stuff\n",
    "import networkx as nx\n",
    "import random\n",
    "import itertools\n",
    "import matplotlib.pyplot as plt\n",
    "%matplotlib inline\n",
    "import math\n",
    "\n",
    "# set values\n",
    "n_users = 50\n",
    "n_questions = 5\n",
    "p_dontcare = 0.333\n",
    "min_disagreements = 2\n",
    "\n",
    "# count disagreements\n",
    "def n_disagreements(a, b):\n",
    "    count = 0\n",
    "    if len(a) == len(b):\n",
    "        for i,j in zip(a,b):\n",
    "            if i+j == 1:\n",
    "                count += 1\n",
    "        return count\n",
    "    return -1 \n",
    "\n",
    "# generate one answer\n",
    "def create_answer(p_dontcare):\n",
    "    chance = random.random()\n",
    "    if chance <= p_dontcare:\n",
    "        rand = -1\n",
    "    elif chance > (1-(1-p_dontcare)/2):\n",
    "        rand = 0\n",
    "    else:\n",
    "        rand = 1\n",
    "    return(rand)\n",
    "\n",
    "# generate a set of answer for each user\n",
    "def create_answer_arrays(n_users, n_questions, p_dontcare):\n",
    "    arrays = [[create_answer(p_dontcare) for j in range (n_questions)] for i in range(n_users)]\n",
    "    return arrays\n",
    "\n",
    "# create graph, add nodes for each user, add edges if disagreements are high enough \n",
    "def simulate_user_numbers(n_users, n_questions, p_dontcare):\n",
    "    arrays = create_answer_arrays(n_users, n_questions, p_dontcare)\n",
    "    G = nx.Graph()\n",
    "    G.add_nodes_from(list(range(n_users)))\n",
    "    for i, j in itertools.combinations(range(n_users), 2):\n",
    "        disagreements = n_disagreements(arrays[i],arrays[j])\n",
    "        if disagreements > min_disagreements:\n",
    "            G.add_edge(j,i, weight = math.log(disagreements))\n",
    "    matching = nx.max_weight_matching(G)\n",
    "    # print nr of pairs possible, print average questions answered, print graph\n",
    "    print(str(len(matching)) + \"/\" + str(n_users), \"users matched; average questions answered: \" + str(n_questions * (1-p_dontcare)))\n",
    "    nx.draw(G, with_labels=True)\n",
    "\n",
    "simulate_user_numbers(n_users, n_questions, p_dontcare)\n"
   ]
  },
  {
   "cell_type": "code",
   "execution_count": null,
   "metadata": {},
   "outputs": [],
   "source": []
  }
 ],
 "metadata": {
  "kernelspec": {
   "display_name": "Python 3",
   "language": "python",
   "name": "python3"
  },
  "language_info": {
   "codemirror_mode": {
    "name": "ipython",
    "version": 3
   },
   "file_extension": ".py",
   "mimetype": "text/x-python",
   "name": "python",
   "nbconvert_exporter": "python",
   "pygments_lexer": "ipython3",
   "version": "3.7.3"
  }
 },
 "nbformat": 4,
 "nbformat_minor": 2
}
