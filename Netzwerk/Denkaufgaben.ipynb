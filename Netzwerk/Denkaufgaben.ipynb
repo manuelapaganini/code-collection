{
 "cells": [
  {
   "cell_type": "markdown",
   "metadata": {},
   "source": [
    "# Denkaufgaben"
   ]
  },
  {
   "cell_type": "code",
   "execution_count": null,
   "metadata": {},
   "outputs": [],
   "source": []
  },
  {
   "cell_type": "code",
   "execution_count": 13,
   "metadata": {},
   "outputs": [],
   "source": [
    "import networkx as nx\n",
    "#import matplotlib.pyplot as plt\n",
    "#%matplotlib inline\n",
    "import warnings\n",
    "warnings.filterwarnings('ignore')\n",
    "import random"
   ]
  },
  {
   "cell_type": "markdown",
   "metadata": {},
   "source": [
    "### Übung 1\n",
    "Mach mit networkx ein Netzwerk aus 20 nodes und speichere in jeder node einen fünfelementigen Array, von dem jedes Element randomly entweder -1, 0 oder 1 ist"
   ]
  },
  {
   "cell_type": "code",
   "execution_count": 14,
   "metadata": {},
   "outputs": [
    {
     "data": {
      "text/plain": [
       "[(0, {'arr': [-1, 0, 1, 1, 1]}),\n",
       " (1, {'arr': [-1, 0, 0, -1, 0]}),\n",
       " (2, {'arr': [-1, 0, 0, 0, -1]}),\n",
       " (3, {'arr': [-1, 0, -1, 0, 0]}),\n",
       " (4, {'arr': [0, 1, 0, -1, 0]}),\n",
       " (5, {'arr': [-1, 1, -1, 1, -1]}),\n",
       " (6, {'arr': [0, 0, 0, -1, -1]}),\n",
       " (7, {'arr': [0, -1, 1, 1, -1]}),\n",
       " (8, {'arr': [0, -1, 0, -1, 0]}),\n",
       " (9, {'arr': [1, -1, -1, -1, -1]}),\n",
       " (10, {'arr': [0, 1, -1, 0, 0]}),\n",
       " (11, {'arr': [1, 1, 0, -1, 0]}),\n",
       " (12, {'arr': [0, -1, 0, 1, -1]}),\n",
       " (13, {'arr': [1, 1, 0, 0, -1]}),\n",
       " (14, {'arr': [-1, 1, 1, -1, 0]}),\n",
       " (15, {'arr': [0, 1, 1, -1, -1]}),\n",
       " (16, {'arr': [1, 0, 1, -1, -1]}),\n",
       " (17, {'arr': [-1, 0, -1, 1, 1]}),\n",
       " (18, {'arr': [-1, 0, -1, 1, 1]}),\n",
       " (19, {'arr': [0, -1, -1, -1, -1]})]"
      ]
     },
     "execution_count": 14,
     "metadata": {},
     "output_type": "execute_result"
    }
   ],
   "source": [
    "G = nx.Graph()  \n",
    "\n",
    "for i in range(20):\n",
    "    G.add_node(i, arr = [random.randrange(-1,2) for j in range (5)])\n",
    "\n",
    "list(G.nodes(data=True))"
   ]
  },
  {
   "cell_type": "code",
   "execution_count": null,
   "metadata": {},
   "outputs": [],
   "source": []
  },
  {
   "cell_type": "markdown",
   "metadata": {},
   "source": [
    "### Übung 2\n",
    "\n",
    "Schreibe eine Funktion, die als Argument zwei gleichlange Arrays nimmt. Der Output ist die Anzahl Positionen im Array, wo einer davon 1 und einer 0 hat (jeweils egal welcher)."
   ]
  },
  {
   "cell_type": "code",
   "execution_count": 21,
   "metadata": {},
   "outputs": [],
   "source": [
    "\n",
    "a = [1, 0, 0, 0, -1]\n",
    "b = [0, -1, 1, 0, -1]\n",
    "c = [0, 0, 1, 1, 1]\n",
    "d = [-1, 0, -1, 0, 0]\n",
    "e = [0, -1, 0, -1, 0]\n",
    "f = [1, -1, 0, 1, 1]"
   ]
  },
  {
   "cell_type": "code",
   "execution_count": 22,
   "metadata": {},
   "outputs": [
    {
     "name": "stdout",
     "output_type": "stream",
     "text": [
      "Count is 3\n"
     ]
    }
   ],
   "source": [
    "def compare_array(a, b):\n",
    "    count = 0\n",
    "    for i,j in zip(a,b):\n",
    "        if i == 0 and j == 1:\n",
    "            count += 1\n",
    "        elif i == 1 and j == 0:\n",
    "            count += 1\n",
    "    print(\"Count is\", str(count))\n",
    "\n",
    "compare_array(c, a)"
   ]
  },
  {
   "cell_type": "code",
   "execution_count": null,
   "metadata": {},
   "outputs": [],
   "source": []
  },
  {
   "cell_type": "markdown",
   "metadata": {},
   "source": [
    "### Übung 3\n",
    "\n",
    "Schreibe eine Funktion, die mit 40%iger Wahrscheinlichkeit -1 zurückgibt und ansonsten mit je gleicher Wahrscheinlichkeit 0 oder 1."
   ]
  },
  {
   "cell_type": "code",
   "execution_count": 26,
   "metadata": {},
   "outputs": [],
   "source": [
    "\n",
    "def almost_random():\n",
    "    chance = random.random()\n",
    "    if chance <= 0.4:\n",
    "        rand = -1\n",
    "    elif chance > 0.7:\n",
    "        rand = 0\n",
    "    else:\n",
    "        rand = 1\n",
    "    return(rand)"
   ]
  },
  {
   "cell_type": "code",
   "execution_count": 30,
   "metadata": {},
   "outputs": [
    {
     "name": "stdout",
     "output_type": "stream",
     "text": [
      "402\n",
      "301\n",
      "297\n"
     ]
    }
   ],
   "source": [
    "# Check probabilities\n",
    "\n",
    "rand_list = []\n",
    "\n",
    "for i in range(1000):\n",
    "    rand_list.append(almost_random())\n",
    "                     \n",
    "print(rand_list.count(-1))\n",
    "print(rand_list.count(0))\n",
    "print(rand_list.count(1))"
   ]
  },
  {
   "cell_type": "code",
   "execution_count": null,
   "metadata": {},
   "outputs": [],
   "source": []
  }
 ],
 "metadata": {
  "kernelspec": {
   "display_name": "Python 3",
   "language": "python",
   "name": "python3"
  },
  "language_info": {
   "codemirror_mode": {
    "name": "ipython",
    "version": 3
   },
   "file_extension": ".py",
   "mimetype": "text/x-python",
   "name": "python",
   "nbconvert_exporter": "python",
   "pygments_lexer": "ipython3",
   "version": "3.7.3"
  }
 },
 "nbformat": 4,
 "nbformat_minor": 2
}
